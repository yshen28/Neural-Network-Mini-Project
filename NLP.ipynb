{
 "cells": [
  {
   "cell_type": "markdown",
   "metadata": {},
   "source": [
    "# Natural Language Processing (RNN)"
   ]
  },
  {
   "cell_type": "code",
   "execution_count": null,
   "metadata": {
    "collapsed": true
   },
   "outputs": [],
   "source": [
    "import keras\n",
    "keras.__version__"
   ]
  },
  {
   "cell_type": "code",
   "execution_count": null,
   "metadata": {
    "collapsed": true
   },
   "outputs": [],
   "source": [
    "import numpy as np\n",
    "import pandas as pd\n",
    "\n",
    "#from sklearn.feature_extraction.text import CountVectorizer\n",
    "from keras.preprocessing.text import Tokenizer\n",
    "from keras.preprocessing.sequence import pad_sequences\n",
    "from keras.models import Sequential\n",
    "from keras.layers import Dense, Embedding, LSTM, SpatialDropout1D\n",
    "from keras.utils.np_utils import to_categorical\n",
    "import re\n",
    "\n",
    "data = pd.read_csv('/Users/yiwenshen/Downloads/SAD.csv', skiprows=[8835,535881])\n",
    "# Keeping only the neccessary columns\n",
    "data = data[['Sentiment', 'SentimentText']]"
   ]
  },
  {
   "cell_type": "code",
   "execution_count": null,
   "metadata": {
    "collapsed": true
   },
   "outputs": [],
   "source": [
    "data.shape"
   ]
  },
  {
   "cell_type": "code",
   "execution_count": null,
   "metadata": {
    "collapsed": true
   },
   "outputs": [],
   "source": [
    "data['Sentiment'].value_counts()"
   ]
  },
  {
   "cell_type": "markdown",
   "metadata": {
    "collapsed": true
   },
   "source": [
    "#############added\n",
    "data1 = data[data.Sentiment == 1][0:500000]\n",
    "data2 = data[data.Sentiment == 0][0:500000]\n",
    "data = data1.append(data2)"
   ]
  },
  {
   "cell_type": "code",
   "execution_count": null,
   "metadata": {
    "collapsed": true
   },
   "outputs": [],
   "source": [
    "data['SentimentText'] = data['SentimentText'].apply(lambda x: x.lower())\n",
    "data['SentimentText'] = data['SentimentText'].apply((lambda x: re.sub('[^a-zA-z0-9\\s]','',x)))\n",
    "\n",
    "max_features = 2000\n",
    "tokenizer = Tokenizer(num_words=max_features, split=' ')\n",
    "tokenizer.fit_on_texts(data['SentimentText'].values)\n",
    "X = tokenizer.texts_to_sequences(data['SentimentText'].values)\n",
    "X = pad_sequences(X)\n",
    "Y = pd.get_dummies(data['Sentiment']).values"
   ]
  },
  {
   "cell_type": "markdown",
   "metadata": {
    "collapsed": true
   },
   "source": [
    "ind = np.arange(X.shape[0])\n",
    "np.random.shuffle(ind)\n",
    "X[ind]\n",
    "Y[ind]\n",
    "X_train, X_test = X[:800000,:], X[800000:,:]\n",
    "Y_train, Y_test = Y[:800000,:], Y[800000:,:]\n",
    "print(X_train.shape,Y_train.shape)\n",
    "print(X_test.shape,Y_test.shape)"
   ]
  },
  {
   "cell_type": "code",
   "execution_count": null,
   "metadata": {
    "collapsed": true
   },
   "outputs": [],
   "source": [
    "from sklearn.model_selection import train_test_split\n",
    "X_train, X_test, Y_train, Y_test = train_test_split(X,Y, test_size = 0.33, random_state = 42)\n",
    "\n",
    "print(X_train.shape,Y_train.shape)\n",
    "print(X_test.shape,Y_test.shape)"
   ]
  },
  {
   "cell_type": "code",
   "execution_count": 43,
   "metadata": {},
   "outputs": [
    {
     "name": "stdout",
     "output_type": "stream",
     "text": [
      "Train on 640000 samples, validate on 160000 samples\n",
      "Epoch 1/10\n",
      "640000/640000 [==============================] - 231s 361us/step - loss: 0.3929 - acc: 0.8245 - val_loss: 1.0940 - val_acc: 0.4051\n",
      "Epoch 2/10\n",
      "640000/640000 [==============================] - 235s 368us/step - loss: 0.3707 - acc: 0.8353 - val_loss: 1.1719 - val_acc: 0.4528\n",
      "Epoch 3/10\n",
      "640000/640000 [==============================] - 233s 365us/step - loss: 0.3636 - acc: 0.8395 - val_loss: 0.9834 - val_acc: 0.5052\n",
      "Epoch 4/10\n",
      "640000/640000 [==============================] - 227s 354us/step - loss: 0.3597 - acc: 0.8420 - val_loss: 1.1358 - val_acc: 0.4629\n",
      "Epoch 5/10\n",
      "640000/640000 [==============================] - 228s 356us/step - loss: 0.3569 - acc: 0.8436 - val_loss: 0.8843 - val_acc: 0.4980\n",
      "Epoch 6/10\n",
      "640000/640000 [==============================] - 228s 357us/step - loss: 0.3550 - acc: 0.8452 - val_loss: 1.0821 - val_acc: 0.4382\n",
      "Epoch 7/10\n",
      "640000/640000 [==============================] - 228s 356us/step - loss: 0.3538 - acc: 0.8459 - val_loss: 1.0925 - val_acc: 0.4343\n",
      "Epoch 8/10\n",
      "640000/640000 [==============================] - 229s 358us/step - loss: 0.3520 - acc: 0.8469 - val_loss: 1.1498 - val_acc: 0.4772\n",
      "Epoch 9/10\n",
      "640000/640000 [==============================] - 225s 352us/step - loss: 0.3513 - acc: 0.8471 - val_loss: 1.1422 - val_acc: 0.3918\n",
      "Epoch 10/10\n",
      "640000/640000 [==============================] - 222s 346us/step - loss: 0.3506 - acc: 0.8476 - val_loss: 1.0965 - val_acc: 0.4172\n"
     ]
    }
   ],
   "source": [
    "from keras.layers import Dense, SimpleRNN\n",
    "\n",
    "model = Sequential()\n",
    "model.add(Embedding(max_features, 32))\n",
    "model.add(SimpleRNN(32))\n",
    "model.add(Dense(2, activation='softmax'))\n",
    "\n",
    "model.compile(optimizer='rmsprop', loss='binary_crossentropy', metrics=['acc'])\n",
    "history = model.fit(X_train, Y_train,\n",
    "                    epochs=10,\n",
    "                    batch_size=128,\n",
    "                    validation_split=0.2)"
   ]
  },
  {
   "cell_type": "code",
   "execution_count": 44,
   "metadata": {},
   "outputs": [
    {
     "data": {
      "image/png": "[encoded data removed]",
      "text/plain": [
       "<matplotlib.figure.Figure at 0x11928a908>"
      ]
     },
     "metadata": {},
     "output_type": "display_data"
    },
    {
     "data": {
      "image/png": "[encoded data removed]",
      "text/plain": [
       "<matplotlib.figure.Figure at 0x119149a90>"
      ]
     },
     "metadata": {},
     "output_type": "display_data"
    }
   ],
   "source": [
    "import matplotlib.pyplot as plt\n",
    "\n",
    "acc = history.history['acc']\n",
    "val_acc = history.history['val_acc']\n",
    "loss = history.history['loss']\n",
    "val_loss = history.history['val_loss']\n",
    "\n",
    "epochs = range(len(acc))\n",
    "\n",
    "plt.plot(epochs, acc, 'bo', label='Training acc')\n",
    "plt.plot(epochs, val_acc, 'b', label='Validation acc')\n",
    "plt.title('Training and validation accuracy')\n",
    "plt.legend()\n",
    "\n",
    "plt.figure()\n",
    "\n",
    "plt.plot(epochs, loss, 'bo', label='Training loss')\n",
    "plt.plot(epochs, val_loss, 'b', label='Validation loss')\n",
    "plt.title('Training and validation loss')\n",
    "plt.legend()\n",
    "\n",
    "plt.show()"
   ]
  },
  {
   "cell_type": "markdown",
   "metadata": {},
   "source": [
    "# model using LSTM layer"
   ]
  },
  {
   "cell_type": "code",
   "execution_count": 29,
   "metadata": {
    "collapsed": true
   },
   "outputs": [],
   "source": [
    "embed_dim = 50\n",
    "lstm_out = 80\n",
    "model = Sequential()\n",
    "model.add(Embedding(max_features, embed_dim,input_length = X.shape[1]))\n",
    "model.add(SpatialDropout1D(rate=0.2))\n",
    "model.add(LSTM(lstm_out, dropout=0.2, recurrent_dropout=0.2))\n",
    "model.add(Dense(2,activation='softmax'))\n",
    "model.compile(loss = 'categorical_crossentropy', optimizer='adam',metrics = ['accuracy'])"
   ]
  },
  {
   "cell_type": "code",
   "execution_count": 30,
   "metadata": {},
   "outputs": [
    {
     "name": "stdout",
     "output_type": "stream",
     "text": [
      "Train on 64000 samples, validate on 16000 samples\n",
      "Epoch 1/10\n",
      "64000/64000 [==============================] - 86s 1ms/step - loss: 0.4166 - acc: 0.8171 - val_loss: 1.3056 - val_acc: 0.2848\n",
      "Epoch 2/10\n",
      "64000/64000 [==============================] - 89s 1ms/step - loss: 0.3582 - acc: 0.8461 - val_loss: 1.2916 - val_acc: 0.3339\n",
      "Epoch 3/10\n",
      "64000/64000 [==============================] - 85s 1ms/step - loss: 0.3458 - acc: 0.8512 - val_loss: 1.3677 - val_acc: 0.3155\n",
      "Epoch 4/10\n",
      "64000/64000 [==============================] - 87s 1ms/step - loss: 0.3374 - acc: 0.8554 - val_loss: 1.4176 - val_acc: 0.3493\n",
      "Epoch 5/10\n",
      "64000/64000 [==============================] - 84s 1ms/step - loss: 0.3308 - acc: 0.8573 - val_loss: 1.3649 - val_acc: 0.3564\n",
      "Epoch 6/10\n",
      "64000/64000 [==============================] - 84s 1ms/step - loss: 0.3245 - acc: 0.8605 - val_loss: 1.4648 - val_acc: 0.3214\n",
      "Epoch 7/10\n",
      "64000/64000 [==============================] - 87s 1ms/step - loss: 0.3188 - acc: 0.8632 - val_loss: 1.4410 - val_acc: 0.3473\n",
      "Epoch 8/10\n",
      "64000/64000 [==============================] - 85s 1ms/step - loss: 0.3113 - acc: 0.8671 - val_loss: 1.4471 - val_acc: 0.3771\n",
      "Epoch 9/10\n",
      "64000/64000 [==============================] - 85s 1ms/step - loss: 0.3068 - acc: 0.8684 - val_loss: 1.4305 - val_acc: 0.3416\n",
      "Epoch 10/10\n",
      "64000/64000 [==============================] - 84s 1ms/step - loss: 0.3007 - acc: 0.8707 - val_loss: 1.7409 - val_acc: 0.3383\n"
     ]
    }
   ],
   "source": [
    "history = model.fit(X_train, Y_train,\n",
    "                    epochs=10,\n",
    "                    batch_size=128,\n",
    "                    validation_split=0.2)"
   ]
  },
  {
   "cell_type": "code",
   "execution_count": 16,
   "metadata": {},
   "outputs": [
    {
     "data": {
      "image/png": "[encoded data removed]",
      "text/plain": [
       "<matplotlib.figure.Figure at 0x1235cf198>"
      ]
     },
     "metadata": {},
     "output_type": "display_data"
    },
    {
     "data": {
      "image/png": "[encoded data removed]",
      "text/plain": [
       "<matplotlib.figure.Figure at 0x123629278>"
      ]
     },
     "metadata": {},
     "output_type": "display_data"
    }
   ],
   "source": [
    "import matplotlib.pyplot as plt\n",
    "\n",
    "acc = history.history['acc']\n",
    "val_acc = history.history['val_acc']\n",
    "loss = history.history['loss']\n",
    "val_loss = history.history['val_loss']\n",
    "\n",
    "epochs = range(len(acc))\n",
    "\n",
    "plt.plot(epochs, acc, 'bo', label='Training acc')\n",
    "plt.plot(epochs, val_acc, 'b', label='Validation acc')\n",
    "plt.title('Training and validation accuracy')\n",
    "plt.legend()\n",
    "\n",
    "plt.figure()\n",
    "\n",
    "plt.plot(epochs, loss, 'bo', label='Training loss')\n",
    "plt.plot(epochs, val_loss, 'b', label='Validation loss')\n",
    "plt.title('Training and validation loss')\n",
    "plt.legend()\n",
    "\n",
    "plt.show()"
   ]
  },
  {
   "cell_type": "code",
   "execution_count": null,
   "metadata": {
    "collapsed": true
   },
   "outputs": [],
   "source": []
  }
 ],
 "metadata": {
  "kernelspec": {
   "display_name": "Python 3",
   "language": "python",
   "name": "python3"
  },
  "language_info": {
   "codemirror_mode": {
    "name": "ipython",
    "version": 3
   },
   "file_extension": ".py",
   "mimetype": "text/x-python",
   "name": "python",
   "nbconvert_exporter": "python",
   "pygments_lexer": "ipython3",
   "version": "3.6.1"
  }
 },
 "nbformat": 4,
 "nbformat_minor": 2
}
